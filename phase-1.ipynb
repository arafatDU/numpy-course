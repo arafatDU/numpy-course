{
 "cells": [
  {
   "cell_type": "markdown",
   "id": "314c1406",
   "metadata": {},
   "source": [
    "# Numpy Array and Basics"
   ]
  },
  {
   "cell_type": "code",
   "execution_count": 1,
   "id": "a898ad14",
   "metadata": {},
   "outputs": [],
   "source": [
    "import numpy as np"
   ]
  },
  {
   "cell_type": "markdown",
   "id": "359ab45b",
   "metadata": {},
   "source": [
    "### Creating array from list"
   ]
  },
  {
   "cell_type": "code",
   "execution_count": 3,
   "id": "10ce04d0",
   "metadata": {},
   "outputs": [
    {
     "name": "stdout",
     "output_type": "stream",
     "text": [
      "1D array:  [1 2 3 4 5]\n",
      "2D array:  [[1 2 3]\n",
      " [4 5 6]]\n"
     ]
    }
   ],
   "source": [
    "arr_1d = np.array([1, 2, 3, 4, 5])\n",
    "print(\"1D array: \", arr_1d)\n",
    "\n",
    "arr_2d = np.array([[1, 2, 3], [4, 5, 6]])\n",
    "print(\"2D array: \", arr_2d)"
   ]
  },
  {
   "cell_type": "markdown",
   "id": "030fb840",
   "metadata": {},
   "source": [
    "### List vs Numpy Array"
   ]
  },
  {
   "cell_type": "code",
   "execution_count": 4,
   "id": "db563d6f",
   "metadata": {},
   "outputs": [
    {
     "name": "stdout",
     "output_type": "stream",
     "text": [
      "Python list multiplication  [1, 2, 3, 1, 2, 3]\n",
      "Python array multiplication  [2 4 6]\n",
      "\n",
      " List operation time:  0.2668039798736572\n",
      "\n",
      " Numpy operation time:  0.008951187133789062\n"
     ]
    }
   ],
   "source": [
    "py_list = [1, 2, 3]\n",
    "print(\"Python list multiplication \", py_list * 2)\n",
    "\n",
    "\n",
    "np_array = np.array([1, 2, 3]) #element wise multiplication\n",
    "print(\"Python array multiplication \", np_array * 2)\n",
    "\n",
    "import time\n",
    "start = time.time()\n",
    "py_list = [i*2 for i in range(1000000)]\n",
    "print(\"\\n List operation time: \", time.time() - start)\n",
    "\n",
    "start = time.time()\n",
    "np_array = np.arange(1000000) * 2\n",
    "print(\"\\n Numpy operation time: \", time.time() - start)\n",
    "\n"
   ]
  },
  {
   "cell_type": "markdown",
   "id": "56aaedfd",
   "metadata": {},
   "source": [
    "### Creating array from scratch"
   ]
  },
  {
   "cell_type": "code",
   "execution_count": 5,
   "id": "937929fe",
   "metadata": {},
   "outputs": [
    {
     "name": "stdout",
     "output_type": "stream",
     "text": [
      "zeros array: \n",
      " [[0. 0. 0. 0.]\n",
      " [0. 0. 0. 0.]\n",
      " [0. 0. 0. 0.]]\n",
      "one array: \n",
      " [[1. 1. 1.]\n",
      " [1. 1. 1.]]\n",
      "full array: \n",
      " [[7 7]\n",
      " [7 7]]\n",
      "random array: \n",
      " [[0.44532272 0.0077472  0.43804394]\n",
      " [0.99037827 0.0244668  0.09811471]]\n",
      "sequnce array: \n",
      " [ 0  2  4  6  8 10]\n"
     ]
    }
   ],
   "source": [
    "zeros = np.zeros((3, 4))\n",
    "print(\"zeros array: \\n\", zeros)\n",
    "\n",
    "ones = np.ones((2, 3))\n",
    "print(\"one array: \\n\", ones)\n",
    "\n",
    "full = np.full((2, 2), 7)\n",
    "print(\"full array: \\n\", full)\n",
    "\n",
    "random = np.random.random((2, 3))\n",
    "print(\"random array: \\n\", random)\n",
    "\n",
    "sequence = np.arange(0, 11, 2)\n",
    "print(\"sequnce array: \\n\", sequence)\n"
   ]
  },
  {
   "cell_type": "markdown",
   "id": "a03f0278",
   "metadata": {},
   "source": [
    "### Vector, Matrix and Tensor"
   ]
  },
  {
   "cell_type": "code",
   "execution_count": 6,
   "id": "f2226037",
   "metadata": {},
   "outputs": [
    {
     "name": "stdout",
     "output_type": "stream",
     "text": [
      "Vector:  [1 2 3]\n",
      "Matrix:  [[1 2 3]\n",
      " [4 5 6]]\n",
      "Tensor:  [[[1 2]\n",
      "  [3 4]]\n",
      "\n",
      " [[5 6]\n",
      "  [7 8]]]\n"
     ]
    }
   ],
   "source": [
    "vector = np.array([1, 2, 3])\n",
    "print(\"Vector: \", vector)\n",
    "\n",
    "matrix = np.array([[1, 2, 3], \n",
    "                   [4, 5, 6]])\n",
    "print(\"Matrix: \", matrix)\n",
    "\n",
    "tensor = np.array([[[1, 2], [3, 4]], \n",
    "                   [[5, 6], [7, 8]]])\n",
    "print(\"Tensor: \", tensor)"
   ]
  },
  {
   "cell_type": "markdown",
   "id": "3cdf6fd6",
   "metadata": {},
   "source": [
    "### Array Properties"
   ]
  },
  {
   "cell_type": "code",
   "execution_count": 7,
   "id": "7ae08067",
   "metadata": {},
   "outputs": [
    {
     "name": "stdout",
     "output_type": "stream",
     "text": [
      "Shape  (2, 3)\n",
      "Dimension  2\n",
      "Size  6\n",
      "DType  int64\n"
     ]
    }
   ],
   "source": [
    "arr = np.array([[1, 2, 3], \n",
    "                [4, 5, 6]])\n",
    "print(\"Shape \", arr.shape)\n",
    "print(\"Dimension \", arr.ndim)\n",
    "print(\"Size \", arr.size)\n",
    "print(\"DType \", arr.dtype)"
   ]
  },
  {
   "cell_type": "markdown",
   "id": "78fdc1ae",
   "metadata": {},
   "source": [
    "### Array Reshaping"
   ]
  },
  {
   "cell_type": "code",
   "execution_count": 8,
   "id": "0407f803",
   "metadata": {},
   "outputs": [
    {
     "name": "stdout",
     "output_type": "stream",
     "text": [
      "Original array  [ 0  1  2  3  4  5  6  7  8  9 10 11]\n",
      "\n",
      " Reshaped array  [[ 0  1  2  3]\n",
      " [ 4  5  6  7]\n",
      " [ 8  9 10 11]]\n",
      "\n",
      " Flattened array  [ 0  1  2  3  4  5  6  7  8  9 10 11]\n",
      "\n",
      " raveled array  [ 0  1  2  3  4  5  6  7  8  9 10 11]\n",
      "\n",
      " Transposed array  [[ 0  4  8]\n",
      " [ 1  5  9]\n",
      " [ 2  6 10]\n",
      " [ 3  7 11]]\n"
     ]
    }
   ],
   "source": [
    "arr = np.arange(12)\n",
    "print(\"Original array \", arr)\n",
    "\n",
    "reshaped = arr.reshape((3, 4))\n",
    "print(\"\\n Reshaped array \", reshaped)\n",
    "\n",
    "flattened = reshaped.flatten()\n",
    "print(\"\\n Flattened array \", flattened)\n",
    "\n",
    "# ravel (returns view, instead of copy)\n",
    "raveled = reshaped.ravel()\n",
    "print(\"\\n raveled array \", raveled)\n",
    "\n",
    "# Transpose\n",
    "transpose = reshaped.T\n",
    "print(\"\\n Transposed array \", transpose)\n",
    "\n"
   ]
  }
 ],
 "metadata": {
  "kernelspec": {
   "display_name": "venv",
   "language": "python",
   "name": "python3"
  },
  "language_info": {
   "codemirror_mode": {
    "name": "ipython",
    "version": 3
   },
   "file_extension": ".py",
   "mimetype": "text/x-python",
   "name": "python",
   "nbconvert_exporter": "python",
   "pygments_lexer": "ipython3",
   "version": "3.12.3"
  }
 },
 "nbformat": 4,
 "nbformat_minor": 5
}
